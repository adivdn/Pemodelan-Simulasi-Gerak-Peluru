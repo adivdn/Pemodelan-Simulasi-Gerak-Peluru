{
 "cells": [
  {
   "cell_type": "code",
   "execution_count": 1,
   "metadata": {},
   "outputs": [],
   "source": [
    "# -*- coding: utf-8 -*-\n",
    "\"\"\"\n",
    "Created on Sun Feb  9 17:05:52 2020\n",
    "\n",
    "@author: ADIV\n",
    "\"\"\"\n",
    "\n",
    "import matplotlib.pyplot as plt\n",
    "import numpy\n",
    "import math"
   ]
  },
  {
   "cell_type": "code",
   "execution_count": 2,
   "metadata": {},
   "outputs": [
    {
     "name": "stdout",
     "output_type": "stream",
     "text": [
      "Masukkan Kecepatan : 100\n",
      "Masukkan Sudut Kemiringan : 60\n",
      "Masukkan Time Delta : 0.1\n",
      "\n",
      "\n",
      "Waktu Numerik ketika menyentuh tanah :  17.5\n",
      "Jarak Maksimal dari Numerik  880.0000000000001\n",
      "\n",
      "\n",
      "Waktu Analitik ketika menyentuh tanah :  17.7\n",
      "Jarak Maksimal dari Analitik  885.0000000000002\n",
      "\n",
      "\n",
      "Waktu Total :  17.67398783233548\n",
      "Jarak Maksimum :  883.6993916167743\n",
      "Tinggi Maksimum :  382.6530612244897\n"
     ]
    },
    {
     "data": {
      "image/png": "[encoded data removed]",
      "text/plain": [
       "<Figure size 432x288 with 1 Axes>"
      ]
     },
     "metadata": {
      "needs_background": "light"
     },
     "output_type": "display_data"
    }
   ],
   "source": [
    "arrayOfXNumerik = []\n",
    "arrayOfYNumerik = []\n",
    "\n",
    "arrayOfXAnalitik = []\n",
    "arrayOfYAnalitik = []\n",
    "\n",
    "speed = float(input('Masukkan Kecepatan : '))\n",
    "degree = float(input('Masukkan Sudut Kemiringan : '))\n",
    "timedelta = float(input('Masukkan Time Delta : '))\n",
    "\n",
    "print('\\n')\n",
    "\n",
    "Sin = math.sin(math.radians(degree))\n",
    "Cos = math.cos(math.radians(degree))\n",
    "\n",
    "\n",
    "\n",
    "g = 9.8\n",
    "time = float((2 * speed * Sin) / g)\n",
    "\n",
    "atas = float(math.pow(speed,2) * math.pow(Sin,2))\n",
    "bawah = float(2*g)\n",
    "\n",
    "hMax = float(atas/bawah)\n",
    "\n",
    "R = speed * Cos * time\n",
    "\n",
    "g = g * -1\n",
    "\n",
    "positionXNumerik = 0\n",
    "positionYNumerik = 0\n",
    "\n",
    "positionXAnalitik = 0\n",
    "positionYAnalitik = 0\n",
    "\n",
    "speedNumerikX = float(speed * Cos)\n",
    "speedNumerikY = float(speed * Sin)\n",
    "\n",
    "speedAnalitikX = float(speed * Cos)\n",
    "speedAnalitikY = float(speed * Sin)\n",
    "\n",
    "arrayOfXNumerik.append(positionXNumerik)\n",
    "arrayOfYNumerik.append(positionYNumerik)\n",
    "\n",
    "arrayOfXAnalitik.append(positionXAnalitik)\n",
    "arrayOfYAnalitik.append(positionYAnalitik)\n",
    "\n",
    "for t in numpy.arange(0,time+timedelta,timedelta):\n",
    "    speedNumerikY = speedNumerikY + (g * timedelta)\n",
    "    positionXNumerik = positionXNumerik + (speedNumerikX * timedelta)\n",
    "    positionYNumerik = positionYNumerik + (speedNumerikY * timedelta)\n",
    "    arrayOfXNumerik.append(positionXNumerik)\n",
    "    arrayOfYNumerik.append(positionYNumerik)\n",
    "    if positionYNumerik < 0:\n",
    "        print('Waktu Numerik ketika menyentuh tanah : ',t)\n",
    "        print('Jarak Maksimal dari Numerik ',positionXNumerik)\n",
    "        break\n",
    "\n",
    "print('\\n')\n",
    "\n",
    "for t in numpy.arange(0,time+timedelta,timedelta):\n",
    "    \n",
    "     positionXAnalitik = speedAnalitikX * t\n",
    "     arrayOfXAnalitik.append(positionXAnalitik)\n",
    "     positionYAnalitik = speedAnalitikY * t + (0.5 * g * math.pow(t,2))\n",
    "     arrayOfYAnalitik.append(positionYAnalitik)\n",
    "     \n",
    "     if positionYAnalitik < 0:\n",
    "        print('Waktu Analitik ketika menyentuh tanah : ',t)\n",
    "        print('Jarak Maksimal dari Analitik ',positionXAnalitik)\n",
    "        print('\\n')\n",
    "        break\n",
    "      \n",
    "    \n",
    "print('Waktu Total : ',time)\n",
    "plt.xlabel('X')\n",
    "plt.ylabel('Y')\n",
    "plt.plot(arrayOfXAnalitik,arrayOfYAnalitik,'r-o')\n",
    "plt.plot(arrayOfXNumerik,arrayOfYNumerik,'b')\n",
    "plt.legend(['Analitik','Numerik'],loc = 'best')\n",
    "plt.xlim(0,R+1)\n",
    "plt.ylim(0,hMax+0.1)\n",
    "print ('Jarak Maksimum : ',R)\n",
    "print ('Tinggi Maksimum : ',hMax)\n",
    "plt.show()"
   ]
  },
  {
   "cell_type": "code",
   "execution_count": null,
   "metadata": {},
   "outputs": [],
   "source": []
  }
 ],
 "metadata": {
  "kernelspec": {
   "display_name": "Python 3",
   "language": "python",
   "name": "python3"
  },
  "language_info": {
   "codemirror_mode": {
    "name": "ipython",
    "version": 3
   },
   "file_extension": ".py",
   "mimetype": "text/x-python",
   "name": "python",
   "nbconvert_exporter": "python",
   "pygments_lexer": "ipython3",
   "version": "3.7.6"
  }
 },
 "nbformat": 4,
 "nbformat_minor": 4
}
